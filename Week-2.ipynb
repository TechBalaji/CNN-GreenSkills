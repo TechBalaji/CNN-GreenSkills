{
 "cells": [
  {
   "cell_type": "markdown",
   "id": "f1a8dd33",
   "metadata": {},
   "source": [
    "## Imports"
   ]
  },
  {
   "cell_type": "code",
   "execution_count": null,
   "id": "9f9908aa",
   "metadata": {
    "_cell_guid": "b1076dfc-b9ad-4769-8c92-a6c4dae69d19",
    "_kg_hide-input": true,
    "_kg_hide-output": true,
    "_uuid": "8f2839f25d086af736a60e9eeb907d3b93b6e0e5",
    "execution": {
     "iopub.execute_input": "2025-01-30T06:13:00.244179Z",
     "iopub.status.busy": "2025-01-30T06:13:00.243496Z",
     "iopub.status.idle": "2025-01-30T06:14:00.151839Z",
     "shell.execute_reply": "2025-01-30T06:14:00.150626Z",
     "shell.execute_reply.started": "2025-01-30T06:13:00.244116Z"
    },
    "scrolled": true
   },
   "outputs": [],
   "source": [
    "import numpy as np \n",
    "import pandas as pd\n",
    "import os\n",
    "for dirname, _, filenames in os.walk('/kaggle/input'):\n",
    "    for filename in filenames:\n",
    "        print(os.path.join(dirname, filename))"
   ]
  },
  {
   "cell_type": "code",
   "execution_count": 2,
   "id": "5b5136bb",
   "metadata": {
    "_kg_hide-input": false,
    "execution": {
     "iopub.execute_input": "2025-01-30T06:14:00.153763Z",
     "iopub.status.busy": "2025-01-30T06:14:00.153392Z",
     "iopub.status.idle": "2025-01-30T06:14:00.168897Z",
     "shell.execute_reply": "2025-01-30T06:14:00.167951Z",
     "shell.execute_reply.started": "2025-01-30T06:14:00.153733Z"
    },
    "scrolled": true
   },
   "outputs": [],
   "source": [
    "\"\"\"\n",
    "We begin by importing essential libraries for:\n",
    "- Data processing (NumPy, Pandas)\n",
    "- Image handling (OpenCV, Matplotlib)\n",
    "- Deep learning (TensorFlow/Keras)\n",
    "- Progress monitoring (tqdm)\n",
    "- System operations (os)\n",
    "\"\"\"\n",
    "import os\n",
    "import numpy as np\n",
    "import pandas as pd\n",
    "import matplotlib.pyplot as plt\n",
    "import cv2\n",
    "import tensorflow as tf\n",
    "from tqdm import tqdm\n",
    "from glob import glob\n",
    "from tensorflow.keras.models import Sequential\n",
    "from tensorflow.keras.layers import Conv2D, MaxPooling2D, Activation, Dropout, Flatten, Dense, BatchNormalization\n",
    "from tensorflow.keras.preprocessing.image import ImageDataGenerator\n",
    "from tensorflow.keras.callbacks import EarlyStopping, ModelCheckpoint\n",
    "\n",
    "import warnings\n",
    "warnings.filterwarnings('ignore')"
   ]
  },
  {
   "cell_type": "code",
   "execution_count": 4,
   "id": "47feb1f8",
   "metadata": {},
   "outputs": [],
   "source": [
    "train_path = r\"C:\\Users\\galig\\Tasks\\GreenSkills\\DATASET\\DATASET\\TRAIN\\R\""
   ]
  },
  {
   "cell_type": "code",
   "execution_count": null,
   "id": "bb356e6f",
   "metadata": {
    "execution": {
     "iopub.execute_input": "2025-01-30T06:14:00.184377Z",
     "iopub.status.busy": "2025-01-30T06:14:00.184053Z",
     "iopub.status.idle": "2025-01-30T06:14:49.651118Z",
     "shell.execute_reply": "2025-01-30T06:14:49.649686Z",
     "shell.execute_reply.started": "2025-01-30T06:14:00.184349Z"
    }
   },
   "outputs": [],
   "source": [
    "from cv2 import cvtColor\n",
    "x_data = []\n",
    "y_data = []\n",
    "for category in glob(train_path+'/*'):\n",
    "    for file in tqdm(glob(category+'/*')):\n",
    "        img_array = cv2.imread(file)\n",
    "        img_array = cv2.cvtColor(img_array, cv2.COLOR_BGR2RGB)\n",
    "        x_data.append(img_array)\n",
    "        y_data.append(category.split(\"/\")[-1])\n",
    "data = pd.DataFrame({'image': x_data, 'label': y_data})\n"
   ]
  },
  {
   "cell_type": "code",
   "execution_count": null,
   "id": "ffe5f5f1",
   "metadata": {
    "execution": {
     "iopub.execute_input": "2025-01-30T11:03:11.633169Z",
     "iopub.status.busy": "2025-01-30T11:03:11.631889Z",
     "iopub.status.idle": "2025-01-30T11:03:11.98274Z",
     "shell.execute_reply": "2025-01-30T11:03:11.981814Z",
     "shell.execute_reply.started": "2025-01-30T11:03:11.633106Z"
    }
   },
   "outputs": [],
   "source": [
    "from tensorflow.keras.models import load_model\n",
    "\n",
    "model = load_model(\"Waste-Classification-CNN-Model.h5\")\n",
    "\n",
    "model.summary()\n"
   ]
  },
  {
   "cell_type": "code",
   "execution_count": null,
   "id": "3eb2b469",
   "metadata": {
    "execution": {
     "iopub.execute_input": "2025-01-30T11:03:54.778376Z",
     "iopub.status.busy": "2025-01-30T11:03:54.777895Z",
     "iopub.status.idle": "2025-01-30T11:04:24.530114Z",
     "shell.execute_reply": "2025-01-30T11:04:24.528953Z",
     "shell.execute_reply.started": "2025-01-30T11:03:54.778341Z"
    }
   },
   "outputs": [],
   "source": [
    "import numpy as np\n",
    "\n",
    "predictions = model.predict(test_generator)\n",
    "\n",
    "predicted_classes = np.argmax(predictions, axis=1)\n",
    "\n",
    "actual_classes = test_generator.classes\n",
    "\n",
    "class_labels = list(test_generator.class_indices.keys())\n",
    "\n",
    "print(\"Predicted Classes:\", [class_labels[i] for i in predicted_classes[:10]])\n",
    "print(\"Actual Classes:\", [class_labels[i] for i in actual_classes[:10]])\n"
   ]
  },
  {
   "cell_type": "code",
   "execution_count": null,
   "id": "40a850f1",
   "metadata": {
    "execution": {
     "iopub.execute_input": "2025-01-30T11:04:24.531961Z",
     "iopub.status.busy": "2025-01-30T11:04:24.531636Z",
     "iopub.status.idle": "2025-01-30T11:04:25.217371Z",
     "shell.execute_reply": "2025-01-30T11:04:25.215987Z",
     "shell.execute_reply.started": "2025-01-30T11:04:24.53193Z"
    }
   },
   "outputs": [],
   "source": [
    "\"\"\"\n",
    "# Visualize Some Test Images with Predictions\n",
    "We randomly select some test images and display them with predicted labels.\n",
    "\"\"\"\n",
    "import matplotlib.pyplot as plt\n",
    "\n",
    "test_image_paths = test_generator.filepaths\n",
    "\n",
    "random_indices = np.random.choice(len(test_image_paths), 6, replace=False)\n",
    "\n",
    "plt.figure(figsize=(12, 6))\n",
    "\n",
    "for i, idx in enumerate(random_indices):\n",
    "    img = cv2.imread(test_image_paths[idx])\n",
    "    img = cv2.cvtColor(img, cv2.COLOR_BGR2RGB) \n",
    "\n",
    "    predicted_label = class_labels[predicted_classes[idx]]\n",
    "    actual_label = class_labels[actual_classes[idx]]\n",
    "\n",
    "    plt.subplot(2, 3, i + 1)\n",
    "    plt.imshow(img)\n",
    "    plt.axis('off')\n",
    "    plt.title(f\"Predicted: {predicted_label}\\nActual: {actual_label}\", fontsize=12)\n",
    "\n",
    "plt.tight_layout()\n",
    "plt.show()\n"
   ]
  },
  {
   "cell_type": "code",
   "execution_count": null,
   "id": "3fde1ae3",
   "metadata": {
    "execution": {
     "iopub.execute_input": "2025-01-30T11:04:25.218908Z",
     "iopub.status.busy": "2025-01-30T11:04:25.218564Z",
     "iopub.status.idle": "2025-01-30T11:04:25.43316Z",
     "shell.execute_reply": "2025-01-30T11:04:25.43207Z",
     "shell.execute_reply.started": "2025-01-30T11:04:25.218879Z"
    }
   },
   "outputs": [],
   "source": [
    "from sklearn.metrics import classification_report, confusion_matrix\n",
    "\n",
    "print(\"Classification Report:\\n\")\n",
    "print(classification_report(actual_classes, predicted_classes, target_names=class_labels))\n",
    "\n",
    "import seaborn as sns\n",
    "\n",
    "cm = confusion_matrix(actual_classes, predicted_classes)\n",
    "\n",
    "plt.figure(figsize=(8, 6))\n",
    "sns.heatmap(cm, annot=True, fmt=\"d\", cmap=\"Blues\", xticklabels=class_labels, yticklabels=class_labels)\n",
    "plt.xlabel(\"Predicted Label\")\n",
    "plt.ylabel(\"True Label\")\n",
    "plt.title(\"Confusion Matrix\")\n",
    "plt.show()\n"
   ]
  },
  {
   "cell_type": "markdown",
   "id": "950fa0e7",
   "metadata": {},
   "source": [
    "## Data Loading"
   ]
  },
  {
   "cell_type": "code",
   "execution_count": null,
   "id": "ee5755fd",
   "metadata": {
    "execution": {
     "iopub.execute_input": "2025-01-30T06:14:53.424943Z",
     "iopub.status.busy": "2025-01-30T06:14:53.424661Z",
     "iopub.status.idle": "2025-01-30T06:14:54.153121Z",
     "shell.execute_reply": "2025-01-30T06:14:54.152192Z",
     "shell.execute_reply.started": "2025-01-30T06:14:53.424919Z"
    }
   },
   "outputs": [],
   "source": [
    "\"\"\"\n",
    "Generate training and validation datasets using augmentation.\n",
    "Target size: 150x150 pixels, batch size: 32, class mode: categorical.\n",
    "\"\"\"\n",
    "train_generator = datagen.flow_from_directory(\n",
    "    train_path,\n",
    "    target_size=(150, 150),\n",
    "    batch_size=32,\n",
    "    class_mode='categorical',\n",
    "    subset='training'\n",
    ")\n",
    "validation_generator = datagen.flow_from_directory(\n",
    "    train_path,\n",
    "    target_size=(150, 150),\n",
    "    batch_size=32,\n",
    "    class_mode='categorical',\n",
    "    subset='validation'\n",
    ")"
   ]
  },
  {
   "cell_type": "code",
   "execution_count": null,
   "id": "1bf4904c",
   "metadata": {
    "execution": {
     "iopub.execute_input": "2025-01-30T11:03:11.994976Z",
     "iopub.status.busy": "2025-01-30T11:03:11.99463Z",
     "iopub.status.idle": "2025-01-30T11:03:13.20541Z",
     "shell.execute_reply": "2025-01-30T11:03:13.204307Z",
     "shell.execute_reply.started": "2025-01-30T11:03:11.994951Z"
    }
   },
   "outputs": [],
   "source": [
    "# Prepare Test Data\n",
    "\n",
    "test_path = \"/kaggle/input/waste-classification-data/DATASET/TEST\"\n",
    "\n",
    "test_datagen = ImageDataGenerator(rescale=1./255)\n",
    "\n",
    "test_generator = test_datagen.flow_from_directory(\n",
    "    test_path,\n",
    "    target_size=(150, 150),\n",
    "    batch_size=32,\n",
    "    class_mode='categorical',\n",
    "    shuffle=False  # Do not shuffle so that labels remain aligned\n",
    ")\n"
   ]
  },
  {
   "cell_type": "markdown",
   "id": "a14eee89",
   "metadata": {},
   "source": [
    "## Preprocessing"
   ]
  },
  {
   "cell_type": "code",
   "execution_count": 33,
   "id": "5b15071f",
   "metadata": {
    "execution": {
     "iopub.execute_input": "2025-01-30T06:14:53.416517Z",
     "iopub.status.busy": "2025-01-30T06:14:53.416036Z",
     "iopub.status.idle": "2025-01-30T06:14:53.423323Z",
     "shell.execute_reply": "2025-01-30T06:14:53.42196Z",
     "shell.execute_reply.started": "2025-01-30T06:14:53.416469Z"
    }
   },
   "outputs": [],
   "source": [
    "\n",
    "\"\"\"\n",
    "We use `ImageDataGenerator` to apply transformations such as:\n",
    "- Rotation, width/height shift, shear, zoom, and flipping\n",
    "- Rescaling pixel values to [0,1]\n",
    "- Splitting training data into training (80%) and validation (20%)\n",
    "\"\"\"\n",
    "datagen = ImageDataGenerator(\n",
    "    rescale=1./255,\n",
    "    rotation_range=30,\n",
    "    width_shift_range=0.2,\n",
    "    height_shift_range=0.2,\n",
    "    shear_range=0.2,\n",
    "    zoom_range=0.2,\n",
    "    horizontal_flip=True,\n",
    "    fill_mode='nearest',\n",
    "    validation_split=0.2\n",
    ")"
   ]
  },
  {
   "cell_type": "markdown",
   "id": "62ab5d1d",
   "metadata": {},
   "source": [
    "## Model Definition"
   ]
  },
  {
   "cell_type": "code",
   "execution_count": 35,
   "id": "580e87e6",
   "metadata": {
    "execution": {
     "iopub.execute_input": "2025-01-30T06:14:54.154432Z",
     "iopub.status.busy": "2025-01-30T06:14:54.154135Z",
     "iopub.status.idle": "2025-01-30T06:14:54.160792Z",
     "shell.execute_reply": "2025-01-30T06:14:54.159796Z",
     "shell.execute_reply.started": "2025-01-30T06:14:54.154407Z"
    }
   },
   "outputs": [],
   "source": [
    "def build_model():\n",
    "    model = Sequential([\n",
    "        Conv2D(32, (3,3), activation='relu', input_shape=(150,150,3)),\n",
    "        MaxPooling2D(2,2),\n",
    "        BatchNormalization(),\n",
    "\n",
    "        Conv2D(64, (3,3), activation='relu'),\n",
    "        MaxPooling2D(2,2),\n",
    "        BatchNormalization(),\n",
    "\n",
    "        Conv2D(128, (3,3), activation='relu'),\n",
    "        MaxPooling2D(2,2),\n",
    "        BatchNormalization(),\n",
    "\n",
    "        Flatten(),\n",
    "        Dense(512, activation='relu'),\n",
    "        Dropout(0.5),\n",
    "        Dense(len(train_generator.class_indices), activation='softmax')\n",
    "    ])\n",
    "    return model"
   ]
  },
  {
   "cell_type": "code",
   "execution_count": 36,
   "id": "86392a95",
   "metadata": {
    "execution": {
     "iopub.execute_input": "2025-01-30T06:14:54.162204Z",
     "iopub.status.busy": "2025-01-30T06:14:54.161817Z",
     "iopub.status.idle": "2025-01-30T06:14:54.332915Z",
     "shell.execute_reply": "2025-01-30T06:14:54.331938Z",
     "shell.execute_reply.started": "2025-01-30T06:14:54.162165Z"
    }
   },
   "outputs": [],
   "source": [
    "model = build_model()\n",
    "model.compile(optimizer=tf.keras.optimizers.Adam(learning_rate=0.0001),\n",
    "              loss='categorical_crossentropy',\n",
    "              metrics=['accuracy'])\n"
   ]
  },
  {
   "cell_type": "code",
   "execution_count": null,
   "id": "46c6328b",
   "metadata": {
    "execution": {
     "iopub.execute_input": "2025-01-30T06:14:54.333956Z",
     "iopub.status.busy": "2025-01-30T06:14:54.333697Z",
     "iopub.status.idle": "2025-01-30T06:14:54.36122Z",
     "shell.execute_reply": "2025-01-30T06:14:54.360172Z",
     "shell.execute_reply.started": "2025-01-30T06:14:54.333933Z"
    }
   },
   "outputs": [],
   "source": [
    "# Display Model Summary\n",
    "\n",
    "model.summary()"
   ]
  },
  {
   "cell_type": "code",
   "execution_count": 40,
   "id": "8d7dc117",
   "metadata": {
    "execution": {
     "iopub.execute_input": "2025-01-30T06:16:06.199778Z",
     "iopub.status.busy": "2025-01-30T06:16:06.199287Z",
     "iopub.status.idle": "2025-01-30T06:16:06.205297Z",
     "shell.execute_reply": "2025-01-30T06:16:06.203654Z",
     "shell.execute_reply.started": "2025-01-30T06:16:06.199739Z"
    }
   },
   "outputs": [],
   "source": [
    "callbacks = [\n",
    "    EarlyStopping(monitor='val_loss', patience=5, restore_best_weights=True),\n",
    "    ModelCheckpoint('best_model.keras', save_best_only=True)  # Updated file format\n",
    "]\n"
   ]
  },
  {
   "cell_type": "code",
   "execution_count": null,
   "id": "42f8f51c",
   "metadata": {
    "execution": {
     "iopub.execute_input": "2025-01-30T06:16:11.322286Z",
     "iopub.status.busy": "2025-01-30T06:16:11.321884Z",
     "iopub.status.idle": "2025-01-30T10:46:44.903293Z",
     "shell.execute_reply": "2025-01-30T10:46:44.899989Z",
     "shell.execute_reply.started": "2025-01-30T06:16:11.322258Z"
    }
   },
   "outputs": [],
   "source": [
    "history = model.fit(\n",
    "    train_generator,\n",
    "    validation_data=validation_generator,\n",
    "    epochs=50,\n",
    "    callbacks=callbacks\n",
    ")\n"
   ]
  },
  {
   "cell_type": "code",
   "execution_count": 42,
   "id": "19aa67f9",
   "metadata": {
    "execution": {
     "iopub.execute_input": "2025-01-30T10:46:44.915177Z",
     "iopub.status.busy": "2025-01-30T10:46:44.90828Z",
     "iopub.status.idle": "2025-01-30T10:46:45.372991Z",
     "shell.execute_reply": "2025-01-30T10:46:45.371933Z",
     "shell.execute_reply.started": "2025-01-30T10:46:44.915107Z"
    }
   },
   "outputs": [],
   "source": [
    "model.save(\"Waste-Classification-CNN-Model.h5\")"
   ]
  },
  {
   "cell_type": "code",
   "execution_count": null,
   "id": "e8490e69",
   "metadata": {
    "execution": {
     "iopub.execute_input": "2025-01-30T11:03:13.207155Z",
     "iopub.status.busy": "2025-01-30T11:03:13.206863Z",
     "iopub.status.idle": "2025-01-30T11:03:54.775111Z",
     "shell.execute_reply": "2025-01-30T11:03:54.773526Z",
     "shell.execute_reply.started": "2025-01-30T11:03:13.207127Z"
    }
   },
   "outputs": [],
   "source": [
    "test_loss, test_accuracy = model.evaluate(test_generator)\n",
    "\n",
    "print(f\"Test Accuracy: {test_accuracy * 100:.2f}%\")\n",
    "print(f\"Test Loss: {test_loss:.4f}\")\n"
   ]
  },
  {
   "cell_type": "markdown",
   "id": "c8f3949d",
   "metadata": {},
   "source": [
    "## Training"
   ]
  },
  {
   "cell_type": "code",
   "execution_count": 28,
   "id": "6fa54599",
   "metadata": {
    "execution": {
     "iopub.execute_input": "2025-01-30T06:14:00.178999Z",
     "iopub.status.busy": "2025-01-30T06:14:00.178708Z",
     "iopub.status.idle": "2025-01-30T06:14:00.182979Z",
     "shell.execute_reply": "2025-01-30T06:14:00.181895Z",
     "shell.execute_reply.started": "2025-01-30T06:14:00.178975Z"
    }
   },
   "outputs": [],
   "source": [
    "\"\"\"\n",
    "Specify the paths to the training and testing datasets.\n",
    "\"\"\"\n",
    "train_path = \"/kaggle/input/waste-classification-data/DATASET/TRAIN\"\n",
    "test_path = \"/kaggle/input/waste-classification-data/DATASET/TEST\""
   ]
  },
  {
   "cell_type": "code",
   "execution_count": null,
   "id": "026e7c96",
   "metadata": {
    "execution": {
     "iopub.execute_input": "2025-01-30T10:46:45.375325Z",
     "iopub.status.busy": "2025-01-30T10:46:45.37495Z",
     "iopub.status.idle": "2025-01-30T10:46:45.870015Z",
     "shell.execute_reply": "2025-01-30T10:46:45.868761Z",
     "shell.execute_reply.started": "2025-01-30T10:46:45.375295Z"
    }
   },
   "outputs": [],
   "source": [
    "plt.figure(figsize=(12, 5))\n",
    "plt.subplot(1, 2, 1)\n",
    "plt.plot(history.history['accuracy'], label='Train Accuracy')\n",
    "plt.plot(history.history['val_accuracy'], label='Validation Accuracy')\n",
    "plt.legend()\n",
    "plt.title('Accuracy')\n",
    "\n",
    "plt.subplot(1, 2, 2)\n",
    "plt.plot(history.history['loss'], label='Train Loss')\n",
    "plt.plot(history.history['val_loss'], label='Validation Loss')\n",
    "plt.legend()\n",
    "plt.title('Loss')\n",
    "\n",
    "plt.show()"
   ]
  },
  {
   "cell_type": "markdown",
   "id": "c28a94a8",
   "metadata": {},
   "source": [
    "## Miscellaneous"
   ]
  },
  {
   "cell_type": "code",
   "execution_count": null,
   "id": "e52069ff",
   "metadata": {
    "execution": {
     "iopub.execute_input": "2025-01-30T06:14:00.171192Z",
     "iopub.status.busy": "2025-01-30T06:14:00.17065Z",
     "iopub.status.idle": "2025-01-30T06:14:00.177241Z",
     "shell.execute_reply": "2025-01-30T06:14:00.176215Z",
     "shell.execute_reply.started": "2025-01-30T06:14:00.171141Z"
    }
   },
   "outputs": [],
   "source": [
    "print(\"TensorFlow Version:\", tf.__version__)\n",
    "print(\"Is GPU Available:\", tf.config.list_physical_devices('GPU'))"
   ]
  },
  {
   "cell_type": "code",
   "execution_count": null,
   "id": "005efce6",
   "metadata": {
    "execution": {
     "iopub.execute_input": "2025-01-30T06:14:49.652778Z",
     "iopub.status.busy": "2025-01-30T06:14:49.652404Z",
     "iopub.status.idle": "2025-01-30T06:14:49.659665Z",
     "shell.execute_reply": "2025-01-30T06:14:49.658588Z",
     "shell.execute_reply.started": "2025-01-30T06:14:49.652749Z"
    }
   },
   "outputs": [],
   "source": [
    "data.shape\n"
   ]
  },
  {
   "cell_type": "code",
   "execution_count": null,
   "id": "7e420a1e",
   "metadata": {
    "execution": {
     "iopub.execute_input": "2025-01-30T06:14:49.661191Z",
     "iopub.status.busy": "2025-01-30T06:14:49.660802Z",
     "iopub.status.idle": "2025-01-30T06:14:49.783576Z",
     "shell.execute_reply": "2025-01-30T06:14:49.78225Z",
     "shell.execute_reply.started": "2025-01-30T06:14:49.661154Z"
    }
   },
   "outputs": [],
   "source": [
    "colors = ['#a0d157', '#c48bb8']\n",
    "plt.pie(data.label.value_counts(), labels=['Organic', 'Recyclable'], autopct='%0.2f%%',\n",
    "        colors=colors, startangle=90, explode=[0.05, 0.05])\n",
    "plt.show()\n"
   ]
  },
  {
   "cell_type": "code",
   "execution_count": null,
   "id": "971959f8",
   "metadata": {
    "execution": {
     "iopub.execute_input": "2025-01-30T06:14:49.786342Z",
     "iopub.status.busy": "2025-01-30T06:14:49.786005Z",
     "iopub.status.idle": "2025-01-30T06:14:53.414051Z",
     "shell.execute_reply": "2025-01-30T06:14:53.412501Z",
     "shell.execute_reply.started": "2025-01-30T06:14:49.786312Z"
    }
   },
   "outputs": [],
   "source": [
    "plt.figure(figsize=(20, 15))\n",
    "for i in range(9):\n",
    "    plt.subplot(4, 3,(i%12)+1)\n",
    "    index = np.random.randint(15000)\n",
    "    plt.title('This is of {0}'.format(data.label[index]))\n",
    "    plt.imshow(data.image[index])\n",
    "    plt.tight_layout()"
   ]
  },
  {
   "cell_type": "code",
   "execution_count": null,
   "id": "3eb5d884",
   "metadata": {},
   "outputs": [],
   "source": []
  },
  {
   "cell_type": "code",
   "execution_count": null,
   "id": "767e39c0",
   "metadata": {},
   "outputs": [],
   "source": []
  }
 ],
 "metadata": {
  "kernelspec": {
   "display_name": "Python 3",
   "language": "python",
   "name": "python3"
  },
  "language_info": {
   "codemirror_mode": {
    "name": "ipython",
    "version": 3
   },
   "file_extension": ".py",
   "mimetype": "text/x-python",
   "name": "python",
   "nbconvert_exporter": "python",
   "pygments_lexer": "ipython3",
   "version": "3.12.8"
  }
 },
 "nbformat": 4,
 "nbformat_minor": 5
}
